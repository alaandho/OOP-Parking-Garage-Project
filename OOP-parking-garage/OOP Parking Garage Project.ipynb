{
 "cells": [
  {
   "cell_type": "markdown",
   "metadata": {},
   "source": [
    "# Parking Garage Project\n",
    "\n",
    "Your assignment for today is to create a parking garage class to get more familiar with Object Oriented Programming(OOP). \n",
    "\n",
    "Your parking gargage class should have the following methods:\n",
    "- takeTicket\n",
    "   - This should decrease the amount of tickets available by 1\n",
    "   - This should decrease the amount of parkingSpaces available by 1\n",
    "- payForParking\n",
    "   - Display an input that waits for an amount from the user and store it in a variable\n",
    "   - If the payment variable is not empty then ->  display a message to the user that their ticket has been paid and they have 15mins to leave\n",
    "   - This should update the \"currentTicket\" dictionary key \"paid\" to True\n",
    "-leaveGarage\n",
    "   - If the ticket has been paid, display a message of \"Thank You, have a nice day\"\n",
    "   - If the ticket has not been paid, display an input prompt for payment\n",
    "      - Once paid, display message \"Thank you, have a nice day!\"\n",
    "   - Update parkingSpaces list to increase by 1\n",
    "   - Update tickets list to increase by 1\n",
    "\n",
    "You will need a few attributes as well:\n",
    "- tickets -> list\n",
    "- parkingSpaces -> list\n",
    "- currentTicket -> dictionary"
   ]
  },
  {
   "cell_type": "code",
   "execution_count": 4,
   "metadata": {},
   "outputs": [],
   "source": [
    "import random\n",
    "\n",
    "\n",
    "\n",
    "class ParkingGarage():\n",
    "    def __init__(self, tickets, parkingSpaces, paidTickets):\n",
    "        self.tickets = tickets\n",
    "        self.parkingSpaces = parkingSpaces\n",
    "        self.paidTickets = paidTickets\n",
    "\n",
    "\n",
    "    def takeTickets(self):\n",
    "        park_space = input('Please enter parking space letter on ticket: ')\n",
    "        rand_ticket = random.choice(self.tickets)\n",
    "        if park_space in self.parkingSpaces and rand_ticket in self.tickets:\n",
    "            self.parkingSpaces.remove(park_space)\n",
    "            self.tickets.remove(rand_ticket)\n",
    "            print(f'Your ticket number is {rand_ticket} and your parking space is: {park_space}')\n",
    "        else:\n",
    "            print(f'Error: parking space {park_space} is occupied. Please try again.')\n",
    "        return (rand_ticket, park_space)\n",
    "\n",
    "\n",
    "# ParkingGarage([1,2,3,4,5], ['a','b','c','d','e'], {})\n",
    "# checkspace.takeTicket(['a','b','c','d','e'])\n",
    "\n",
    "\n",
    "    def payForParking(self, rand_ticket):\n",
    "        cell = \"pay\"   # --> Testing for pay\n",
    "        if cell.lower() == \"pay\":\n",
    "            self.paidTickets[rand_ticket] = 'paid'\n",
    "            print(f'Thank you, your ticket has been paid: {self.paidTickets}')\n",
    "        else:\n",
    "            print(\"Error: please enter valid response\")\n",
    "\n",
    "\n",
    "    def leaveGarage(self, rand_ticket, park_space):\n",
    "        if \"paid\" in self.paidTickets.values():\n",
    "            print('You have 15 minutes to leave. Have a nice day!')\n",
    "            self.parkingSpaces.append(park_space)\n",
    "            self.tickets.append(rand_ticket)\n",
    "\n",
    "\n",
    "# res = ParkingGarage([1, 2, 3, 4, 5, 6, 7, 8, 9, 10], ['a', 'b', 'c', 'd', 'e', 'f', 'g', 'h','i','j'], {})\n",
    "# x = res.takeTickets()\n",
    "# res.payForParking(x) # passing x from function takeTickets to other functions\n",
    "# res.leaveGarage(x, y)"
   ]
  },
  {
   "cell_type": "code",
   "execution_count": null,
   "metadata": {},
   "outputs": [
    {
     "name": "stdout",
     "output_type": "stream",
     "text": [
      "Please enter what you would like to do: 'park', 'pay', 'leave'. park\n",
      "Please enter parking space letter on ticket: a\n",
      "Your ticket number is 4 and your parking space is a\n",
      "Please enter what you would like to do: 'park', 'pay', 'leave'. park\n",
      "Please enter parking space letter on ticket: a\n",
      "Error: parking space a is occupied. Please try again.\n",
      "Please enter what you would like to do: 'park', 'pay', 'leave'. pay\n",
      "Thank you, your ticket has been paid: {3: 'paid'}\n"
     ]
    }
   ],
   "source": [
    "def runGarage():\n",
    "    res = ParkingGarage([1, 2, 3, 4, 5, 6, 7, 8, 9, 10], ['a', 'b', 'c', 'd', 'e', 'f', 'g', 'h','i','j'], {})\n",
    "    x = 0        # 0 is a placeholder --> x needs to be declared\n",
    "    y = ''       # empty string is a placeholder --> y needs to be declared\n",
    "    while True:\n",
    "        cell = input(\"Please enter what you would like to do: 'park', 'pay', 'leave'. \")\n",
    "        if cell.lower() == \"park\":\n",
    "            x, y = res.takeTickets()\n",
    "        elif cell.lower() == \"pay\":\n",
    "            res.payForParking(x)\n",
    "        elif cell.lower() == \"leave\":\n",
    "            res.leaveGarage(x, y)\n",
    "            break\n",
    "runGarage()\n"
   ]
  },
  {
   "cell_type": "code",
   "execution_count": null,
   "metadata": {},
   "outputs": [],
   "source": []
  }
 ],
 "metadata": {
  "kernelspec": {
   "display_name": "Python 3",
   "language": "python",
   "name": "python3"
  },
  "language_info": {
   "codemirror_mode": {
    "name": "ipython",
    "version": 3
   },
   "file_extension": ".py",
   "mimetype": "text/x-python",
   "name": "python",
   "nbconvert_exporter": "python",
   "pygments_lexer": "ipython3",
   "version": "3.8.8"
  }
 },
 "nbformat": 4,
 "nbformat_minor": 2
}
